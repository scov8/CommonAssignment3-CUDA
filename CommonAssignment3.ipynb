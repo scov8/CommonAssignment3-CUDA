{
  "cells": [
    {
      "cell_type": "markdown",
      "metadata": {
        "id": "4CPF1XQvpHuA"
      },
      "source": [
        "# **Monta Google drive**"
      ]
    },
    {
      "cell_type": "code",
      "execution_count": null,
      "metadata": {
        "id": "I_kF-tx-pPrP"
      },
      "outputs": [],
      "source": [
        "from google.colab import drive\n",
        "drive.mount('/content/drive')"
      ]
    },
    {
      "cell_type": "markdown",
      "metadata": {
        "id": "ItelRcJqSBHy"
      },
      "source": [
        "!!!Crea un collegamento alla directory condivisa nel vostro drive"
      ]
    },
    {
      "cell_type": "code",
      "execution_count": null,
      "metadata": {
        "id": "eAH6UFugR_kQ"
      },
      "outputs": [],
      "source": [
        "%cd drive/MyDrive/STUDI/UNISA/CommonAssignment3/"
      ]
    },
    {
      "cell_type": "markdown",
      "metadata": {
        "id": "kRBxRSkPfHi_"
      },
      "source": [
        "# **Set Up CUDA**"
      ]
    },
    {
      "cell_type": "markdown",
      "metadata": {
        "id": "QpbVmjvJog1c"
      },
      "source": [
        "Version Ubuntu, GPU version, GPU type, Plugin"
      ]
    },
    {
      "cell_type": "code",
      "execution_count": null,
      "metadata": {
        "id": "u1sEJOAjabu-"
      },
      "outputs": [],
      "source": [
        "!lsb_release --all\n",
        "!nvcc --version\n",
        "!nvidia-smi \n",
        "!pip install git+git://github.com/andreinechaev/nvcc4jupyter.git\n",
        "%load_ext nvcc_plugin"
      ]
    },
    {
      "cell_type": "markdown",
      "metadata": {
        "id": "Fj0UjemZl5MZ"
      },
      "source": [
        "\n",
        "## Librerie per la K80\n"
      ]
    },
    {
      "cell_type": "code",
      "execution_count": null,
      "metadata": {
        "id": "aqOmKTjba78k"
      },
      "outputs": [],
      "source": [
        "!apt-get --purge remove cuda nvidia* libnvidia-*\n",
        "!dpkg -l | grep cuda- | awk '{print $2}' | xargs -n1 dpkg --purge\n",
        "!apt-get remove cuda-*\n",
        "!apt autoremove\n",
        "!apt-get update\n",
        "!wget https://developer.nvidia.com/compute/cuda/9.2/Prod/local_installers/cuda-repo-ubuntu1710-9-2-local_9.2.88-1_amd64 -O cuda-repo-ubuntu1710-9-2-local_9.2.88-1_amd64.deb\n",
        "!dpkg -i cuda-repo-ubuntu1710-9-2-local_9.2.88-1_amd64.deb\n",
        "!apt-key add /var/cuda-repo-9-2-local/7fa2af80.pub\n",
        "!apt-get update\n",
        "!apt-get install cuda-9.2\n",
        "!nvcc --version"
      ]
    },
    {
      "cell_type": "markdown",
      "metadata": {
        "id": "ivW7prnofWNu"
      },
      "source": [
        "## Codice di test, risultato atteso = 8"
      ]
    },
    {
      "cell_type": "code",
      "execution_count": null,
      "metadata": {
        "id": "gwfqFBXjbAYC"
      },
      "outputs": [],
      "source": [
        "%%cu\n",
        "#include <stdio.h>\n",
        "#include <stdlib.h>\n",
        "__global__ void add(int *a, int *b, int *c) {\n",
        "*c = *a + *b;\n",
        "}\n",
        "int main() {\n",
        "int a, b, c;\n",
        "// host copies of variables a, b & c\n",
        "int *d_a, *d_b, *d_c;\n",
        "// device copies of variables a, b & c\n",
        "int size = sizeof(int);\n",
        "// Allocate space for device copies of a, b, c\n",
        "cudaMalloc((void **)&d_a, size);\n",
        "cudaMalloc((void **)&d_b, size);\n",
        "cudaMalloc((void **)&d_c, size);\n",
        "// Setup input values  \n",
        "c = 0;\n",
        "a = 3;\n",
        "b = 5;\n",
        "// Copy inputs to device\n",
        "cudaMemcpy(d_a, &a, size, cudaMemcpyHostToDevice);\n",
        "  cudaMemcpy(d_b, &b, size, cudaMemcpyHostToDevice);\n",
        "// Launch add() kernel on GPU\n",
        "add<<<1,1>>>(d_a, d_b, d_c);\n",
        "// Copy result back to host\n",
        "cudaError err = cudaMemcpy(&c, d_c, size, cudaMemcpyDeviceToHost);\n",
        "  if(err!=cudaSuccess) {\n",
        "      printf(\"CUDA error copying to Host: %s\\n\", cudaGetErrorString(err));\n",
        "  }\n",
        "printf(\"result is %d\\n\",c);\n",
        "// Cleanup\n",
        "cudaFree(d_a);\n",
        "cudaFree(d_b);\n",
        "cudaFree(d_c);\n",
        "return 0;\n",
        "}"
      ]
    },
    {
      "cell_type": "markdown",
      "metadata": {
        "id": "Qt57B4ksgEEs"
      },
      "source": [
        "# **Caratteristiche Macchina**\n"
      ]
    },
    {
      "cell_type": "markdown",
      "metadata": {
        "id": "pkCiA0PXiNMN"
      },
      "source": [
        "## Caratteristiche scheda"
      ]
    },
    {
      "cell_type": "code",
      "execution_count": null,
      "metadata": {
        "id": "rasumKDriN3w"
      },
      "outputs": [],
      "source": [
        "!nvidia-smi "
      ]
    },
    {
      "cell_type": "markdown",
      "metadata": {
        "id": "81OjhcddihUf"
      },
      "source": [
        "## Caratteristiche GPU"
      ]
    },
    {
      "cell_type": "code",
      "execution_count": null,
      "metadata": {
        "id": "v7Fm2Iy2idQE"
      },
      "outputs": [],
      "source": [
        "%%cu\n",
        "\n",
        "#include <stdio.h>\n",
        "#include <stdlib.h>\n",
        "\n",
        "void deviceQuery()\n",
        "{\n",
        "  cudaDeviceProp prop;\n",
        "  int nDevices=0, i;\n",
        "  cudaError_t ierr;\n",
        "\n",
        "  ierr = cudaGetDeviceCount(&nDevices);\n",
        "  if (ierr != cudaSuccess) { printf(\"Sync error: %s\\n\", cudaGetErrorString(ierr)); }\n",
        "\n",
        "\n",
        "\n",
        "  for( i = 0; i < nDevices; ++i )\n",
        "  {\n",
        "     ierr = cudaGetDeviceProperties(&prop, i);\n",
        "     printf(\"Device number: %d\\n\", i);\n",
        "     printf(\"  Device name: %s\\n\", prop.name);\n",
        "     printf(\"  Compute capability: %d.%d\\n\\n\", prop.major, prop.minor);\n",
        "     \n",
        "     printf(\"  Clock Rate: %d kHz\\n\", prop.clockRate);\n",
        "     printf(\"  Total SMs: %d \\n\", prop.multiProcessorCount);\n",
        "     printf(\"  Shared Memory Per SM: %lu bytes\\n\", prop.sharedMemPerMultiprocessor);\n",
        "     printf(\"  Registers Per SM: %d 32-bit\\n\", prop.regsPerMultiprocessor);\n",
        "     printf(\"  Max threads per SM: %d\\n\", prop.maxThreadsPerMultiProcessor);\n",
        "     printf(\"  L2 Cache Size: %d bytes\\n\", prop.l2CacheSize);\n",
        "     printf(\"  Total Global Memory: %lu bytes\\n\", prop.totalGlobalMem);\n",
        "     printf(\"  Memory Clock Rate: %d kHz\\n\\n\", prop.memoryClockRate);\n",
        "     \n",
        "     \n",
        "     printf(\"  Max threads per block: %d\\n\", prop.maxThreadsPerBlock);\n",
        "     printf(\"  Max threads in X-dimension of block: %d\\n\", prop.maxThreadsDim[0]);\n",
        "     printf(\"  Max threads in Y-dimension of block: %d\\n\", prop.maxThreadsDim[1]);\n",
        "     printf(\"  Max threads in Z-dimension of block: %d\\n\\n\", prop.maxThreadsDim[2]);\n",
        "\n",
        "     printf(\"  Max blocks in X-dimension of grid: %d\\n\", prop.maxGridSize[0]);\n",
        "     printf(\"  Max blocks in Y-dimension of grid: %d\\n\", prop.maxGridSize[1]);\n",
        "     printf(\"  Max blocks in Z-dimension of grid: %d\\n\\n\", prop.maxGridSize[2]);     \n",
        "     \n",
        "     printf(\"  Shared Memory Per Block: %lu bytes\\n\", prop.sharedMemPerBlock);\n",
        "     printf(\"  Registers Per Block: %d 32-bit\\n\", prop.regsPerBlock);\n",
        "     printf(\"  Warp size: %d\\n\\n\", prop.warpSize);\n",
        "\n",
        "  }\n",
        "}\n",
        "\n",
        "int main() {\n",
        "    deviceQuery();\n",
        "}"
      ]
    },
    {
      "cell_type": "code",
      "execution_count": null,
      "metadata": {
        "id": "PqsFnU_LewYX"
      },
      "outputs": [],
      "source": [
        "%cd /usr/local/cuda/samples\n",
        "%cd 1_Utilities/bandwidthTest/\n",
        "!make\n",
        "!./bandwidthTest --mode-range --start=1000 --end=1000000 --increment=100000"
      ]
    },
    {
      "cell_type": "markdown",
      "metadata": {
        "id": "Id_x4m56iKf3"
      },
      "source": [
        "## Caratteristiche CPU"
      ]
    },
    {
      "cell_type": "code",
      "execution_count": null,
      "metadata": {
        "id": "UN3w2CLohEwA"
      },
      "outputs": [],
      "source": [
        "!cat /proc/cpuinfo\n"
      ]
    },
    {
      "cell_type": "markdown",
      "metadata": {
        "id": "HNJo3hqFlfGs"
      },
      "source": [
        "## Caratteristiche Memoria\n"
      ]
    },
    {
      "cell_type": "code",
      "execution_count": null,
      "metadata": {
        "id": "rHJQ3eReln9P"
      },
      "outputs": [],
      "source": [
        "!cat /proc/meminfo"
      ]
    },
    {
      "cell_type": "markdown",
      "metadata": {
        "id": "AdDQ5gDNlUUm"
      },
      "source": [
        "## Disk Info\n",
        "\n",
        "\n"
      ]
    },
    {
      "cell_type": "code",
      "execution_count": null,
      "metadata": {
        "id": "a4evQZvSlTlq"
      },
      "outputs": [],
      "source": [
        "!df -h"
      ]
    },
    {
      "cell_type": "markdown",
      "metadata": {
        "id": "uLzCdsnyfgc0"
      },
      "source": [
        "# **Common Assignment 3**"
      ]
    },
    {
      "cell_type": "markdown",
      "metadata": {
        "id": "K9jyg6a6Z1Qq"
      },
      "source": [
        "## Global\n"
      ]
    },
    {
      "cell_type": "code",
      "execution_count": null,
      "metadata": {
        "id": "4VAANnsb3gpi"
      },
      "outputs": [],
      "source": [
        "%cd /content/drive/MyDrive/STUDI/UNISA/CommonAssignment3/"
      ]
    },
    {
      "cell_type": "markdown",
      "metadata": {
        "id": "ZCoarV8JYwC7"
      },
      "source": [
        "Ezecuzione con test senza creazione csv"
      ]
    },
    {
      "cell_type": "code",
      "execution_count": null,
      "metadata": {
        "id": "oWQyjssNUbe_"
      },
      "outputs": [],
      "source": [
        "!nvcc -o global global.cu\n",
        "!./global 10000 128\n",
        "!./global 10000 256\n",
        "!./global 10000 512\n",
        "!./global 10000 1024"
      ]
    },
    {
      "cell_type": "code",
      "execution_count": null,
      "metadata": {
        "id": "FgncMDd03ke9"
      },
      "outputs": [],
      "source": [
        "!nvprof --print-gpu-trace ./global 100000000 1024 --benchmark "
      ]
    },
    {
      "cell_type": "code",
      "execution_count": null,
      "metadata": {
        "id": "HK7fKnP_mDs7"
      },
      "outputs": [],
      "source": [
        "!nvprof --metrics inst_integer ./global 100000000 1024"
      ]
    },
    {
      "cell_type": "markdown",
      "metadata": {
        "id": "0XZ1L60pY5m8"
      },
      "source": [
        "Ezecuzione con creazione csv"
      ]
    },
    {
      "cell_type": "code",
      "execution_count": null,
      "metadata": {
        "id": "0Rwi5oyUY9GL"
      },
      "outputs": [],
      "source": [
        "!nvcc -o global_custom global_custom.cu\n",
        "!./global_custom 10000000 1024"
      ]
    },
    {
      "cell_type": "markdown",
      "metadata": {
        "id": "lGXEQ4TQZ-RW"
      },
      "source": [
        "## Shared"
      ]
    },
    {
      "cell_type": "code",
      "execution_count": null,
      "metadata": {
        "id": "YRx6JtRwaGJH"
      },
      "outputs": [],
      "source": [
        "%cd /content/drive/MyDrive/STUDI/UNISA/CommonAssignment3-Team02/src/"
      ]
    },
    {
      "cell_type": "code",
      "execution_count": null,
      "metadata": {
        "id": "SAw25SqKT4h8"
      },
      "outputs": [],
      "source": [
        "!nvcc -o shared shared.cu\n",
        "!./shared 100000 1024"
      ]
    },
    {
      "cell_type": "code",
      "execution_count": null,
      "metadata": {
        "id": "9yA4M96CaJG1"
      },
      "outputs": [],
      "source": [
        "!nvcc -o shared shared.cu\n",
        "!./shared 100000 1024\n",
        "!./shared 100000 512\n",
        "!./shared 100000 256\n",
        "!./shared 100000 128"
      ]
    },
    {
      "cell_type": "code",
      "execution_count": null,
      "metadata": {
        "id": "-8BvWmumXTxi"
      },
      "outputs": [],
      "source": [
        "!nvprof --print-gpu-trace ./shared 100000000 1024 --benchmark "
      ]
    },
    {
      "cell_type": "code",
      "execution_count": null,
      "metadata": {
        "id": "EZuSGl7H3ocR"
      },
      "outputs": [],
      "source": [
        "!nvprof --metrics inst_integer ./shared 100000000 1024"
      ]
    },
    {
      "cell_type": "markdown",
      "metadata": {
        "id": "gLmJfr8wBPF1"
      },
      "source": [
        "Ezecuzione con creazione csv"
      ]
    },
    {
      "cell_type": "code",
      "execution_count": null,
      "metadata": {
        "id": "CT3ndbZXBPF3"
      },
      "outputs": [],
      "source": [
        "!nvcc -o shared_custom shared_custom.cu\n",
        "!./shared_custom 10000000 1024"
      ]
    },
    {
      "cell_type": "markdown",
      "metadata": {
        "id": "1b-Hc5d6fP8u"
      },
      "source": [
        "## Texture"
      ]
    },
    {
      "cell_type": "code",
      "execution_count": null,
      "metadata": {
        "id": "DaLYrDkVW92D"
      },
      "outputs": [],
      "source": [
        "%cd /content/drive/MyDrive/STUDI/UNISA/CommonAssignment3/"
      ]
    },
    {
      "cell_type": "code",
      "execution_count": null,
      "metadata": {
        "id": "nzMDJB6orq18"
      },
      "outputs": [],
      "source": [
        "!nvcc -arch=sm_37 -o texture texture.cu\n",
        "!./texture 100000 1024"
      ]
    },
    {
      "cell_type": "code",
      "execution_count": null,
      "metadata": {
        "id": "dVBUuLRaW7v7"
      },
      "outputs": [],
      "source": [
        "!nvcc -arch=sm_37 -o texture texture.cu\n",
        "!./texture 100000 1024\n",
        "!./texture 100000 512\n",
        "!./texture 100000 256\n",
        "!./texture 100000 128"
      ]
    },
    {
      "cell_type": "code",
      "execution_count": null,
      "metadata": {
        "id": "CkKHx5_pXXb2"
      },
      "outputs": [],
      "source": [
        "!nvprof --print-gpu-trace ./texture 100000000 1024 --benchmark "
      ]
    },
    {
      "cell_type": "code",
      "execution_count": null,
      "metadata": {
        "id": "cxyQ1wZg-MhQ"
      },
      "outputs": [],
      "source": [
        "!nvprof --metrics inst_integer ./texture 100000000 1024"
      ]
    },
    {
      "cell_type": "markdown",
      "metadata": {
        "id": "Y42nEmzfBVZz"
      },
      "source": [
        "Ezecuzione con creazione del csv"
      ]
    },
    {
      "cell_type": "code",
      "execution_count": null,
      "metadata": {
        "id": "XxhR-bFSBVZ1"
      },
      "outputs": [],
      "source": [
        "!nvcc -arch=sm_37 -o texture_custom texture_custom.cu\n",
        "!./texture_custom 10000000 1024"
      ]
    },
    {
      "cell_type": "markdown",
      "metadata": {
        "id": "U7VdnncU1HKy"
      },
      "source": [
        "# ***Analisi***"
      ]
    },
    {
      "cell_type": "code",
      "execution_count": null,
      "metadata": {
        "id": "XTfIibvwDM1J"
      },
      "outputs": [],
      "source": [
        "%cd /content/drive/MyDrive/STUDI/UNISA/CommonAssignment3/"
      ]
    },
    {
      "cell_type": "code",
      "execution_count": null,
      "metadata": {
        "id": "5fPeFORPDAJl"
      },
      "outputs": [],
      "source": [
        "!nvcc -o ./global_custom ./global_custom.cu\n",
        "!./global_custom 102400000 1024\n",
        "!nvcc -o ./shared_custom ./shared_custom.cu\n",
        "!./shared_custom 102400000 1024\n",
        "!nvcc -arch=sm_37 -o ./texture_custom ./texture_custom.cu\n",
        "!./texture_custom 102400000 1024\n",
        "\n",
        "!nvcc -o ./global_custom ./global_custom.cu\n",
        "!./global_custom 102400000 512\n",
        "!nvcc -o ./shared_custom ./shared_custom.cu\n",
        "!./shared_custom 102400000 512\n",
        "!nvcc -arch=sm_37 -o ./texture_custom ./texture_custom.cu\n",
        "!./texture_custom 102400000 512\n",
        "\n",
        "!nvcc -o ./global_custom ./global_custom.cu\n",
        "!./global_custom 102400000 256\n",
        "!nvcc -o ./shared_custom ./shared_custom.cu\n",
        "!./shared_custom 102400000 256\n",
        "!nvcc -arch=sm_37 -o ./texture_custom ./texture_custom.cu\n",
        "!./texture_custom 102400000 256\n",
        "\n",
        "!nvcc -o ./global_custom ./global_custom.cu\n",
        "!./global_custom 102400000 128\n",
        "!nvcc -o ./shared_custom ./shared_custom.cu\n",
        "!./shared_custom 102400000 128\n",
        "!nvcc -arch=sm_37 -o ./texture_custom ./texture_custom.cu\n",
        "!./texture_custom 102400000 128"
      ]
    },
    {
      "cell_type": "code",
      "execution_count": null,
      "metadata": {
        "id": "c5XWuonuD7pd"
      },
      "outputs": [],
      "source": [
        "!nvcc -o ./global_custom ./global_custom.cu\n",
        "!nvcc -o ./shared_custom ./shared_custom.cu\n",
        "!nvcc -arch=sm_37 -o ./texture_custom ./texture_custom.cu\n",
        "for _ in range(100):\n",
        "  !./global_custom 102400000 1024\n",
        "  !./shared_custom 102400000 1024\n",
        "  !./texture_custom 102400000 1024\n",
        "\n",
        "for _ in range(100):\n",
        "  !./global_custom 102400000 512\n",
        "  !./shared_custom 102400000 512\n",
        "  !./texture_custom 102400000 512\n",
        "\n",
        "for _ in range(100):\n",
        "  !./global_custom 102400000 256\n",
        "  !./shared_custom 102400000 256\n",
        "  !./texture_custom 102400000 256\n",
        "\n",
        "for _ in range(100):\n",
        "  !./global_custom 102400000 128\n",
        "  !./shared_custom 102400000 128\n",
        "  !./texture_custom 102400000 128"
      ]
    },
    {
      "cell_type": "code",
      "execution_count": null,
      "metadata": {
        "id": "nkneUNHGznVU"
      },
      "outputs": [],
      "source": [
        "!nvcc -o global_custom global_custom.cu\n",
        "!nvcc -o shared_custom shared_custom.cu\n",
        "!nvcc -arch=sm_37 -o texture_custom texture_custom.cu\n",
        "!echo \"==============================================================GLOBAL=====================================================================================\"\n",
        "!nvprof --metrics inst_integer ./global_custom 102400000 1024\n",
        "!nvprof --metrics inst_integer ./global_custom 102400000 512\n",
        "!nvprof --metrics inst_integer ./global_custom 102400000 256\n",
        "!nvprof --metrics inst_integer ./global_custom 102400000 128\n",
        "!echo \"==============================================================SHARED=====================================================================================\"\n",
        "!nvprof --metrics inst_integer ./shared_custom 102400000 1024\n",
        "!nvprof --metrics inst_integer ./shared_custom 102400000 512\n",
        "!nvprof --metrics inst_integer ./shared_custom 102400000 256\n",
        "!nvprof --metrics inst_integer ./shared_custom 102400000 128\n",
        "!echo \"==============================================================TEXTURE=====================================================================================\"\n",
        "!nvprof --metrics inst_integer ./texture_custom 102400000 1024\n",
        "!nvprof --metrics inst_integer ./texture_custom 102400000 512\n",
        "!nvprof --metrics inst_integer ./texture_custom 102400000 256\n",
        "!nvprof --metrics inst_integer ./texture_custom 102400000 128"
      ]
    }
  ],
  "metadata": {
    "accelerator": "GPU",
    "colab": {
      "collapsed_sections": [],
      "name": "CommonAssignment3.ipynb",
      "provenance": []
    },
    "kernelspec": {
      "display_name": "Python 3",
      "name": "python3"
    },
    "language_info": {
      "name": "python"
    }
  },
  "nbformat": 4,
  "nbformat_minor": 0
}